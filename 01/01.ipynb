{
 "cells": [
  {
   "cell_type": "code",
   "execution_count": 26,
   "id": "cb222c4e0c8abc9b",
   "metadata": {
    "collapsed": true,
    "ExecuteTime": {
     "end_time": "2023-12-08T01:08:10.174325Z",
     "start_time": "2023-12-08T01:08:10.165395Z"
    }
   },
   "outputs": [],
   "source": [
    "import re\n",
    "\n",
    "file = 'full_01.txt'\n",
    "with open(file, 'r') as f:\n",
    "    data = f.read().splitlines()"
   ]
  },
  {
   "cell_type": "code",
   "execution_count": 12,
   "outputs": [
    {
     "name": "stdout",
     "output_type": "stream",
     "text": [
      "55712\n"
     ]
    }
   ],
   "source": [
    "\n",
    "# Part 1\n",
    "\n",
    "total = 0\n",
    "for line in data:\n",
    "    a = re.findall(r'\\d', line)\n",
    "    total += (int(a[0] + a[-1]))\n",
    "\n",
    "print(total)"
   ],
   "metadata": {
    "collapsed": false,
    "ExecuteTime": {
     "end_time": "2023-12-08T01:03:35.988245Z",
     "start_time": "2023-12-08T01:03:35.966718Z"
    }
   },
   "id": "initial_id"
  },
  {
   "cell_type": "code",
   "execution_count": 66,
   "outputs": [
    {
     "data": {
      "text/plain": "55413"
     },
     "execution_count": 66,
     "metadata": {},
     "output_type": "execute_result"
    }
   ],
   "source": [
    "# part two\n",
    "\n",
    "def text_to_num(text):\n",
    "    if text == 'one':\n",
    "        return 1\n",
    "    elif text == 'two':\n",
    "        return 2\n",
    "    elif text == 'three':\n",
    "        return 3\n",
    "    elif text == 'four':\n",
    "        return 4\n",
    "    elif text == 'five':\n",
    "        return 5\n",
    "    elif text == 'six':\n",
    "        return 6\n",
    "    elif text == 'seven':\n",
    "        return 7\n",
    "    elif text == 'eight':\n",
    "        return 8\n",
    "    elif text == 'nine':\n",
    "        return 9\n",
    "    else:\n",
    "        return int(text)\n",
    "\n",
    "\n",
    "total = 0\n",
    "for line in data:\n",
    "    a = re.search(r'(\\d|one|two|three|four|five|six|seven|eight|nine)', line)\n",
    "    for start in range(len(line)):\n",
    "        t = re.search(r'(\\d|one|two|three|four|five|six|seven|eight|nine)', line[start:])\n",
    "        if t:\n",
    "            b = t\n",
    "    val = (text_to_num(a.group()) * 10 + text_to_num(b.group()))\n",
    "    total += val\n",
    "\n",
    "total"
   ],
   "metadata": {
    "collapsed": false,
    "ExecuteTime": {
     "end_time": "2023-12-08T01:37:02.604607Z",
     "start_time": "2023-12-08T01:37:02.564441Z"
    }
   },
   "id": "c7c7910a26c4ea61"
  },
  {
   "cell_type": "code",
   "execution_count": null,
   "outputs": [],
   "source": [],
   "metadata": {
    "collapsed": false
   },
   "id": "7ce32bc26da3e583"
  }
 ],
 "metadata": {
  "kernelspec": {
   "display_name": "Python 3",
   "language": "python",
   "name": "python3"
  },
  "language_info": {
   "codemirror_mode": {
    "name": "ipython",
    "version": 2
   },
   "file_extension": ".py",
   "mimetype": "text/x-python",
   "name": "python",
   "nbconvert_exporter": "python",
   "pygments_lexer": "ipython2",
   "version": "2.7.6"
  }
 },
 "nbformat": 4,
 "nbformat_minor": 5
}
