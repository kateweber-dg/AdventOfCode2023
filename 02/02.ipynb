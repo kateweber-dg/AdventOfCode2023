{
 "cells": [
  {
   "cell_type": "code",
   "execution_count": 73,
   "id": "initial_id",
   "metadata": {
    "collapsed": true,
    "ExecuteTime": {
     "end_time": "2023-12-08T14:41:13.555011Z",
     "start_time": "2023-12-08T14:41:13.546788Z"
    }
   },
   "outputs": [],
   "source": [
    "import math\n",
    "games = {}\n",
    "with open('full_02.txt', 'r') as f:\n",
    "    data = f.readlines()"
   ]
  },
  {
   "cell_type": "code",
   "execution_count": 74,
   "outputs": [],
   "source": [
    "# parse data\n",
    "for line in data:\n",
    "    line = line.strip()\n",
    "    line = line.split(': ')\n",
    "    game_no = int(line[0].split(' ')[1])\n",
    "    game_data = line[1]\n",
    "    games[game_no] = {}\n",
    "    for index, batch in enumerate(game_data.split('; ')):\n",
    "        games[game_no][index] = {}\n",
    "        for colour in batch.split(', '):\n",
    "            col = colour.split(' ')\n",
    "            val = int(col[0])\n",
    "            games[game_no][index][col[1]] = val"
   ],
   "metadata": {
    "collapsed": false,
    "ExecuteTime": {
     "end_time": "2023-12-08T14:41:13.960193Z",
     "start_time": "2023-12-08T14:41:13.944475Z"
    }
   },
   "id": "534d36a2a655df16"
  },
  {
   "cell_type": "code",
   "execution_count": 75,
   "outputs": [],
   "source": [
    "maxvals = {\"red\": 12, \"green\": 13, \"blue\": 14}"
   ],
   "metadata": {
    "collapsed": false,
    "ExecuteTime": {
     "end_time": "2023-12-08T14:41:14.409736Z",
     "start_time": "2023-12-08T14:41:14.400811Z"
    }
   },
   "id": "908da54693dfdf6d"
  },
  {
   "cell_type": "code",
   "execution_count": 76,
   "outputs": [
    {
     "name": "stdout",
     "output_type": "stream",
     "text": [
      "2162\n"
     ]
    }
   ],
   "source": [
    "# part 1\n",
    "\n",
    "good_ids = {x: 1 for x in games.keys()}\n",
    "\n",
    "for game_id, game_data in games.items():\n",
    "    for batch_id, batch_data in game_data.items():\n",
    "        for colour, val in batch_data.items():\n",
    "            if val > maxvals[colour]:\n",
    "                good_ids[game_id] = 0\n",
    "                break\n",
    "                \n",
    "answer = sum([x for x in good_ids if good_ids[x] == 1])\n",
    "print(answer)"
   ],
   "metadata": {
    "collapsed": false,
    "ExecuteTime": {
     "end_time": "2023-12-08T14:41:14.829237Z",
     "start_time": "2023-12-08T14:41:14.817802Z"
    }
   },
   "id": "b7b8d132142bd634"
  },
  {
   "cell_type": "code",
   "execution_count": 77,
   "outputs": [
    {
     "data": {
      "text/plain": "{1: {0: {'blue': 3, 'green': 7, 'red': 10},\n  1: {'green': 4, 'red': 4},\n  2: {'green': 1, 'blue': 7, 'red': 5},\n  3: {'blue': 8, 'red': 10},\n  4: {'blue': 7, 'red': 19, 'green': 1}},\n 2: {0: {'red': 6, 'green': 10},\n  1: {'green': 11, 'red': 4},\n  2: {'green': 16, 'blue': 2},\n  3: {'green': 7, 'blue': 5, 'red': 4},\n  4: {'green': 17, 'red': 1, 'blue': 1}},\n 3: {0: {'red': 5, 'blue': 9, 'green': 1},\n  1: {'red': 5},\n  2: {'red': 11, 'green': 2, 'blue': 8},\n  3: {'green': 2, 'blue': 6}},\n 4: {0: {'red': 2, 'green': 5},\n  1: {'blue': 2, 'red': 3, 'green': 3},\n  2: {'red': 3, 'blue': 2},\n  3: {'green': 8, 'red': 2}},\n 5: {0: {'red': 12, 'blue': 13},\n  1: {'blue': 13, 'green': 2, 'red': 9},\n  2: {'blue': 9, 'red': 1},\n  3: {'green': 2, 'blue': 12},\n  4: {'green': 1, 'red': 1, 'blue': 11}},\n 6: {0: {'blue': 4, 'red': 11},\n  1: {'red': 4},\n  2: {'green': 1, 'red': 7},\n  3: {'green': 1, 'blue': 1},\n  4: {'blue': 8, 'red': 10},\n  5: {'green': 1, 'blue': 2, 'red': 8}},\n 7: {0: {'blue': 7, 'red': 15, 'green': 1},\n  1: {'green': 5, 'red': 17, 'blue': 7},\n  2: {'blue': 5, 'green': 1},\n  3: {'blue': 11, 'green': 2, 'red': 17},\n  4: {'green': 14, 'red': 9, 'blue': 2},\n  5: {'blue': 6, 'red': 19}},\n 8: {0: {'green': 13},\n  1: {'green': 5},\n  2: {'blue': 3, 'green': 9, 'red': 1},\n  3: {'red': 4, 'green': 11, 'blue': 4}},\n 9: {0: {'green': 4, 'red': 1, 'blue': 1},\n  1: {'green': 4, 'blue': 7, 'red': 7},\n  2: {'blue': 9, 'red': 4},\n  3: {'blue': 2, 'red': 8, 'green': 5},\n  4: {'blue': 6, 'green': 2},\n  5: {'red': 5, 'green': 5, 'blue': 10}},\n 10: {0: {'green': 1, 'blue': 5, 'red': 3},\n  1: {'green': 4, 'red': 9, 'blue': 3},\n  2: {'red': 11, 'green': 2, 'blue': 5},\n  3: {'green': 3, 'blue': 1, 'red': 2},\n  4: {'red': 6, 'blue': 2}},\n 11: {0: {'red': 2, 'green': 6, 'blue': 12},\n  1: {'red': 2, 'blue': 9, 'green': 1},\n  2: {'green': 12, 'blue': 3}},\n 12: {0: {'red': 1, 'blue': 1, 'green': 12},\n  1: {'green': 6, 'red': 2, 'blue': 1},\n  2: {'red': 6, 'green': 6, 'blue': 1},\n  3: {'green': 3, 'red': 6}},\n 13: {0: {'red': 5, 'green': 19, 'blue': 3},\n  1: {'red': 6, 'blue': 7, 'green': 11},\n  2: {'blue': 8, 'red': 6},\n  3: {'blue': 3, 'green': 4, 'red': 4},\n  4: {'red': 8, 'green': 15, 'blue': 5},\n  5: {'blue': 5, 'red': 2, 'green': 10}},\n 14: {0: {'blue': 5, 'green': 9},\n  1: {'green': 4, 'blue': 6},\n  2: {'green': 14, 'red': 1, 'blue': 4},\n  3: {'blue': 3, 'green': 3},\n  4: {'green': 2},\n  5: {'blue': 5, 'green': 7, 'red': 1}},\n 15: {0: {'red': 5, 'blue': 8},\n  1: {'blue': 9, 'red': 3},\n  2: {'red': 5, 'green': 1, 'blue': 16},\n  3: {'blue': 1, 'red': 3, 'green': 2},\n  4: {'red': 5, 'green': 2, 'blue': 10}},\n 16: {0: {'blue': 6, 'green': 9, 'red': 10},\n  1: {'blue': 8, 'red': 9, 'green': 14},\n  2: {'green': 7, 'blue': 1, 'red': 1},\n  3: {'red': 8, 'green': 5, 'blue': 8},\n  4: {'red': 10, 'blue': 5, 'green': 14},\n  5: {'blue': 7, 'red': 11, 'green': 3}},\n 17: {0: {'blue': 12, 'red': 12, 'green': 6},\n  1: {'green': 14, 'blue': 17, 'red': 4},\n  2: {'blue': 11, 'red': 1, 'green': 13}},\n 18: {0: {'blue': 7, 'green': 2, 'red': 4},\n  1: {'blue': 1, 'green': 2, 'red': 4},\n  2: {'red': 2, 'blue': 17}},\n 19: {0: {'red': 3, 'green': 9},\n  1: {'red': 8, 'blue': 2, 'green': 2},\n  2: {'blue': 3, 'green': 15, 'red': 11},\n  3: {'green': 18, 'red': 3, 'blue': 1}},\n 20: {0: {'green': 5, 'red': 5, 'blue': 16},\n  1: {'blue': 8, 'green': 6, 'red': 4},\n  2: {'red': 10, 'blue': 11},\n  3: {'red': 5, 'blue': 5, 'green': 5}},\n 21: {0: {'red': 1, 'blue': 3, 'green': 14},\n  1: {'red': 6, 'blue': 6, 'green': 17},\n  2: {'green': 12, 'blue': 17, 'red': 3},\n  3: {'green': 15, 'red': 1, 'blue': 19},\n  4: {'red': 3, 'blue': 18, 'green': 4}},\n 22: {0: {'blue': 15},\n  1: {'blue': 11, 'red': 2, 'green': 1},\n  2: {'green': 1, 'red': 7},\n  3: {'red': 1, 'blue': 18, 'green': 1},\n  4: {'blue': 16},\n  5: {'red': 3, 'blue': 6}},\n 23: {0: {'blue': 11, 'green': 6, 'red': 4},\n  1: {'green': 9, 'red': 11, 'blue': 8},\n  2: {'green': 5, 'red': 5, 'blue': 2},\n  3: {'green': 11, 'blue': 4, 'red': 11},\n  4: {'green': 3, 'blue': 9, 'red': 2}},\n 24: {0: {'green': 7, 'red': 2},\n  1: {'red': 8, 'blue': 1, 'green': 15},\n  2: {'red': 3, 'green': 6, 'blue': 6}},\n 25: {0: {'blue': 9, 'green': 9},\n  1: {'green': 3, 'blue': 7, 'red': 1},\n  2: {'green': 6, 'red': 1, 'blue': 1},\n  3: {'green': 6, 'red': 1, 'blue': 1}},\n 26: {0: {'green': 1, 'blue': 15, 'red': 1},\n  1: {'red': 1, 'blue': 12, 'green': 1},\n  2: {'blue': 16},\n  3: {'red': 5, 'green': 11, 'blue': 14},\n  4: {'green': 6, 'red': 4, 'blue': 14}},\n 27: {0: {'red': 14, 'green': 9},\n  1: {'red': 11, 'green': 5, 'blue': 6},\n  2: {'red': 1, 'blue': 6, 'green': 9}},\n 28: {0: {'green': 6, 'blue': 1, 'red': 9},\n  1: {'green': 1, 'red': 9},\n  2: {'red': 7},\n  3: {'red': 11, 'blue': 1, 'green': 2},\n  4: {'red': 8, 'green': 10},\n  5: {'green': 6, 'blue': 1, 'red': 5}},\n 29: {0: {'red': 1, 'blue': 19, 'green': 3},\n  1: {'blue': 9, 'red': 1},\n  2: {'green': 8, 'blue': 17},\n  3: {'blue': 11, 'green': 4}},\n 30: {0: {'blue': 7},\n  1: {'blue': 5, 'red': 1, 'green': 1},\n  2: {'blue': 3, 'red': 1}},\n 31: {0: {'red': 9, 'green': 2, 'blue': 1},\n  1: {'red': 5, 'green': 1, 'blue': 3},\n  2: {'green': 2, 'red': 7},\n  3: {'green': 2, 'red': 12}},\n 32: {0: {'red': 1, 'blue': 1, 'green': 17},\n  1: {'blue': 14, 'green': 10, 'red': 6},\n  2: {'green': 12, 'blue': 11, 'red': 3}},\n 33: {0: {'red': 2, 'green': 1, 'blue': 3},\n  1: {'blue': 7, 'green': 4},\n  2: {'red': 1, 'green': 3, 'blue': 5}},\n 34: {0: {'blue': 9, 'green': 1, 'red': 9},\n  1: {'blue': 12, 'green': 2, 'red': 12},\n  2: {'blue': 3, 'red': 12},\n  3: {'green': 2, 'blue': 14, 'red': 11},\n  4: {'red': 10, 'blue': 12}},\n 35: {0: {'blue': 6, 'red': 2},\n  1: {'blue': 5},\n  2: {'green': 6, 'blue': 9, 'red': 3},\n  3: {'green': 3, 'red': 1, 'blue': 2}},\n 36: {0: {'blue': 9, 'green': 4, 'red': 6},\n  1: {'red': 2, 'green': 4},\n  2: {'red': 7, 'green': 3},\n  3: {'green': 6, 'blue': 2},\n  4: {'red': 3, 'blue': 4, 'green': 3},\n  5: {'green': 3, 'red': 4, 'blue': 16}},\n 37: {0: {'green': 2, 'red': 8, 'blue': 4},\n  1: {'red': 3, 'blue': 4, 'green': 2},\n  2: {'blue': 5, 'green': 3},\n  3: {'blue': 9, 'green': 15},\n  4: {'red': 5, 'green': 11, 'blue': 7}},\n 38: {0: {'red': 12, 'blue': 1},\n  1: {'red': 10, 'green': 3, 'blue': 2},\n  2: {'blue': 7, 'green': 3, 'red': 8},\n  3: {'red': 14, 'green': 2}},\n 39: {0: {'green': 16, 'red': 2, 'blue': 17},\n  1: {'red': 6, 'green': 4, 'blue': 13},\n  2: {'blue': 7, 'green': 1, 'red': 4},\n  3: {'green': 2, 'blue': 3},\n  4: {'green': 12, 'red': 6, 'blue': 17},\n  5: {'red': 5, 'blue': 2, 'green': 6}},\n 40: {0: {'green': 3, 'blue': 4, 'red': 2},\n  1: {'green': 2, 'red': 3},\n  2: {'blue': 6, 'red': 2, 'green': 6},\n  3: {'green': 5},\n  4: {'blue': 3, 'red': 1, 'green': 5}},\n 41: {0: {'green': 13, 'red': 11},\n  1: {'green': 3, 'red': 2, 'blue': 1},\n  2: {'blue': 1, 'green': 3, 'red': 9},\n  3: {'red': 12, 'green': 11},\n  4: {'red': 9, 'green': 1},\n  5: {'green': 9, 'red': 4}},\n 42: {0: {'green': 4, 'blue': 2},\n  1: {'blue': 6, 'green': 10},\n  2: {'blue': 13, 'red': 3, 'green': 6},\n  3: {'blue': 11, 'green': 17},\n  4: {'blue': 8, 'red': 5}},\n 43: {0: {'green': 10, 'blue': 2, 'red': 10},\n  1: {'red': 3, 'blue': 3, 'green': 5},\n  2: {'green': 10, 'red': 11, 'blue': 4},\n  3: {'green': 5},\n  4: {'green': 7, 'red': 13, 'blue': 2}},\n 44: {0: {'red': 4, 'blue': 1, 'green': 5},\n  1: {'blue': 1, 'red': 8, 'green': 3},\n  2: {'red': 11, 'green': 1, 'blue': 1},\n  3: {'green': 2, 'red': 12, 'blue': 1},\n  4: {'blue': 1, 'red': 12},\n  5: {'red': 14, 'green': 3}},\n 45: {0: {'green': 4, 'red': 5, 'blue': 7},\n  1: {'red': 10, 'green': 8, 'blue': 3},\n  2: {'blue': 12, 'green': 1, 'red': 13},\n  3: {'red': 1, 'blue': 3, 'green': 7}},\n 46: {0: {'blue': 5, 'red': 13},\n  1: {'red': 15, 'green': 3, 'blue': 17},\n  2: {'red': 8, 'green': 2, 'blue': 1},\n  3: {'green': 1, 'red': 7, 'blue': 16},\n  4: {'blue': 4, 'red': 10}},\n 47: {0: {'red': 2, 'green': 3},\n  1: {'blue': 2, 'red': 9, 'green': 15},\n  2: {'green': 7, 'red': 4},\n  3: {'blue': 3, 'red': 13, 'green': 9}},\n 48: {0: {'green': 11, 'red': 4, 'blue': 9},\n  1: {'blue': 1, 'green': 7},\n  2: {'blue': 4, 'red': 4},\n  3: {'red': 4, 'blue': 4, 'green': 2},\n  4: {'green': 9, 'blue': 2, 'red': 2}},\n 49: {0: {'green': 10, 'blue': 6},\n  1: {'blue': 2, 'green': 5, 'red': 1},\n  2: {'green': 5, 'blue': 4},\n  3: {'green': 11, 'red': 3, 'blue': 3}},\n 50: {0: {'red': 2, 'green': 15, 'blue': 1},\n  1: {'green': 8, 'blue': 7},\n  2: {'blue': 4, 'green': 8},\n  3: {'blue': 7, 'green': 17},\n  4: {'blue': 5, 'green': 6, 'red': 2},\n  5: {'green': 16, 'red': 2, 'blue': 1}},\n 51: {0: {'green': 3, 'blue': 5, 'red': 1},\n  1: {'red': 11, 'blue': 9, 'green': 8},\n  2: {'red': 3, 'green': 8, 'blue': 7},\n  3: {'red': 1, 'blue': 9, 'green': 6},\n  4: {'green': 4, 'red': 1, 'blue': 3},\n  5: {'green': 8, 'red': 7}},\n 52: {0: {'green': 1, 'blue': 2, 'red': 10},\n  1: {'green': 8, 'blue': 1, 'red': 2},\n  2: {'red': 7, 'green': 8}},\n 53: {0: {'red': 2, 'green': 6},\n  1: {'green': 1, 'blue': 4},\n  2: {'green': 12, 'blue': 19},\n  3: {'blue': 11, 'green': 1},\n  4: {'green': 4, 'blue': 20},\n  5: {'blue': 7, 'green': 9, 'red': 1}},\n 54: {0: {'blue': 2, 'green': 2, 'red': 2},\n  1: {'red': 13, 'green': 1, 'blue': 6},\n  2: {'blue': 9, 'green': 1, 'red': 18},\n  3: {'red': 11, 'blue': 16},\n  4: {'red': 15, 'green': 3, 'blue': 13}},\n 55: {0: {'green': 5, 'blue': 5, 'red': 9},\n  1: {'red': 8, 'blue': 11, 'green': 7},\n  2: {'green': 6, 'red': 2, 'blue': 10},\n  3: {'red': 6, 'blue': 6, 'green': 9},\n  4: {'green': 11, 'blue': 14, 'red': 4}},\n 56: {0: {'blue': 8, 'green': 14},\n  1: {'red': 3, 'green': 8, 'blue': 3},\n  2: {'green': 14, 'red': 1, 'blue': 13},\n  3: {'green': 8, 'red': 3},\n  4: {'blue': 8, 'green': 11, 'red': 1},\n  5: {'blue': 8, 'green': 10, 'red': 2}},\n 57: {0: {'blue': 7, 'red': 7},\n  1: {'green': 11, 'blue': 5, 'red': 2},\n  2: {'green': 14, 'blue': 8},\n  3: {'blue': 5, 'red': 2, 'green': 17},\n  4: {'green': 12, 'red': 3},\n  5: {'red': 7, 'blue': 7, 'green': 9}},\n 58: {0: {'blue': 3, 'red': 4, 'green': 1},\n  1: {'green': 2, 'red': 3},\n  2: {'red': 1, 'green': 2, 'blue': 4},\n  3: {'green': 4, 'red': 4, 'blue': 2}},\n 59: {0: {'red': 6, 'blue': 4, 'green': 5},\n  1: {'blue': 6, 'red': 6},\n  2: {'red': 1},\n  3: {'blue': 8, 'red': 1}},\n 60: {0: {'blue': 4, 'green': 9, 'red': 11},\n  1: {'green': 12, 'red': 3, 'blue': 9},\n  2: {'green': 7, 'blue': 1},\n  3: {'green': 14, 'blue': 11, 'red': 11}},\n 61: {0: {'green': 12},\n  1: {'green': 9, 'red': 9},\n  2: {'red': 12, 'blue': 18, 'green': 8},\n  3: {'red': 16, 'blue': 10, 'green': 3},\n  4: {'green': 6, 'red': 15, 'blue': 3},\n  5: {'green': 13}},\n 62: {0: {'green': 2, 'red': 3, 'blue': 12},\n  1: {'blue': 12, 'green': 12, 'red': 12},\n  2: {'red': 1, 'blue': 12, 'green': 5},\n  3: {'red': 7, 'blue': 9, 'green': 13},\n  4: {'blue': 1, 'red': 3, 'green': 10},\n  5: {'blue': 2, 'red': 8, 'green': 17}},\n 63: {0: {'green': 10, 'blue': 7, 'red': 4},\n  1: {'blue': 3, 'green': 6, 'red': 2},\n  2: {'green': 4, 'red': 10, 'blue': 6},\n  3: {'blue': 16, 'red': 5, 'green': 4}},\n 64: {0: {'red': 11, 'green': 1, 'blue': 6},\n  1: {'red': 12, 'green': 3},\n  2: {'green': 6, 'blue': 5, 'red': 2},\n  3: {'green': 4, 'blue': 9, 'red': 11},\n  4: {'blue': 5, 'green': 8, 'red': 8},\n  5: {'green': 9, 'blue': 11}},\n 65: {0: {'blue': 4, 'red': 12},\n  1: {'green': 1, 'blue': 3, 'red': 12},\n  2: {'green': 1, 'blue': 3, 'red': 13},\n  3: {'red': 2},\n  4: {'red': 12}},\n 66: {0: {'red': 4, 'green': 3, 'blue': 3},\n  1: {'blue': 2, 'red': 4},\n  2: {'red': 10, 'blue': 6, 'green': 3}},\n 67: {0: {'red': 7, 'blue': 2, 'green': 5},\n  1: {'green': 3, 'red': 5, 'blue': 18},\n  2: {'red': 16, 'green': 5, 'blue': 13},\n  3: {'red': 16, 'blue': 5, 'green': 2}},\n 68: {0: {'blue': 11, 'red': 2},\n  1: {'green': 1, 'blue': 3, 'red': 8},\n  2: {'red': 16, 'green': 1, 'blue': 17},\n  3: {'red': 4, 'green': 1, 'blue': 11},\n  4: {'red': 3}},\n 69: {0: {'green': 1, 'red': 9, 'blue': 12},\n  1: {'red': 12},\n  2: {'blue': 11},\n  3: {'green': 1}},\n 70: {0: {'green': 1, 'blue': 18, 'red': 16},\n  1: {'green': 3, 'red': 15, 'blue': 7},\n  2: {'blue': 3, 'green': 3, 'red': 10},\n  3: {'blue': 1, 'green': 3, 'red': 10}},\n 71: {0: {'red': 3, 'blue': 12, 'green': 8},\n  1: {'green': 18, 'blue': 12, 'red': 5},\n  2: {'blue': 2, 'red': 7},\n  3: {'blue': 11, 'green': 9},\n  4: {'blue': 5, 'red': 7, 'green': 19},\n  5: {'red': 2, 'blue': 1, 'green': 13}},\n 72: {0: {'red': 8, 'blue': 6, 'green': 3},\n  1: {'green': 2, 'blue': 13, 'red': 15},\n  2: {'green': 5, 'blue': 8, 'red': 2},\n  3: {'red': 5, 'blue': 12, 'green': 3}},\n 73: {0: {'blue': 3, 'green': 13},\n  1: {'red': 7, 'green': 3},\n  2: {'red': 10, 'blue': 2, 'green': 1}},\n 74: {0: {'red': 3},\n  1: {'red': 2, 'blue': 1, 'green': 7},\n  2: {'green': 10, 'blue': 3, 'red': 1},\n  3: {'green': 6, 'blue': 1},\n  4: {'green': 11, 'blue': 4}},\n 75: {0: {'blue': 8, 'green': 2, 'red': 4},\n  1: {'blue': 19, 'green': 2},\n  2: {'red': 1, 'blue': 18, 'green': 3},\n  3: {'red': 3, 'green': 5, 'blue': 18}},\n 76: {0: {'green': 3, 'red': 2, 'blue': 2},\n  1: {'blue': 3, 'green': 6, 'red': 1},\n  2: {'green': 1, 'blue': 3},\n  3: {'blue': 1, 'green': 1}},\n 77: {0: {'green': 4, 'red': 7, 'blue': 13},\n  1: {'blue': 18},\n  2: {'blue': 4, 'red': 9, 'green': 1},\n  3: {'green': 2, 'blue': 16, 'red': 9}},\n 78: {0: {'green': 2, 'blue': 5, 'red': 11},\n  1: {'blue': 2, 'red': 3, 'green': 1},\n  2: {'green': 4, 'blue': 6, 'red': 6}},\n 79: {0: {'blue': 9, 'green': 1, 'red': 3},\n  1: {'green': 1, 'red': 2, 'blue': 4},\n  2: {'red': 5, 'green': 4, 'blue': 10},\n  3: {'red': 1, 'blue': 9, 'green': 4}},\n 80: {0: {'red': 8, 'green': 5, 'blue': 7},\n  1: {'red': 15, 'blue': 6, 'green': 8},\n  2: {'blue': 8, 'red': 14, 'green': 7},\n  3: {'blue': 3, 'green': 2, 'red': 20},\n  4: {'red': 10, 'blue': 8, 'green': 1},\n  5: {'green': 7, 'red': 11, 'blue': 9}},\n 81: {0: {'red': 7, 'blue': 1, 'green': 5},\n  1: {'green': 5, 'blue': 10, 'red': 9},\n  2: {'blue': 8, 'green': 2, 'red': 7}},\n 82: {0: {'green': 1, 'blue': 6, 'red': 14},\n  1: {'blue': 7, 'green': 2},\n  2: {'blue': 7, 'red': 17, 'green': 3}},\n 83: {0: {'red': 2, 'blue': 19, 'green': 2},\n  1: {'red': 5, 'blue': 5, 'green': 2},\n  2: {'red': 2, 'blue': 4, 'green': 1}},\n 84: {0: {'blue': 1, 'red': 1, 'green': 12},\n  1: {'blue': 11, 'red': 6, 'green': 13},\n  2: {'red': 10, 'blue': 8, 'green': 8},\n  3: {'blue': 14, 'red': 15},\n  4: {'blue': 19, 'green': 10, 'red': 17},\n  5: {'red': 11, 'green': 7}},\n 85: {0: {'blue': 16, 'red': 12, 'green': 8},\n  1: {'red': 13, 'green': 3},\n  2: {'red': 1, 'blue': 16, 'green': 10}},\n 86: {0: {'green': 5, 'blue': 8, 'red': 3},\n  1: {'green': 8, 'red': 9, 'blue': 13},\n  2: {'green': 4, 'red': 1, 'blue': 12},\n  3: {'red': 13, 'blue': 15, 'green': 5}},\n 87: {0: {'green': 1, 'red': 16},\n  1: {'red': 10, 'green': 2, 'blue': 2},\n  2: {'red': 16, 'blue': 5},\n  3: {'blue': 1, 'green': 2}},\n 88: {0: {'blue': 3, 'green': 1},\n  1: {'red': 1, 'green': 2, 'blue': 13},\n  2: {'blue': 5, 'green': 2, 'red': 1}},\n 89: {0: {'blue': 9, 'red': 2, 'green': 1},\n  1: {'blue': 10},\n  2: {'blue': 5, 'green': 1}},\n 90: {0: {'red': 8, 'blue': 2, 'green': 5},\n  1: {'red': 2, 'green': 2, 'blue': 2},\n  2: {'blue': 1, 'green': 8, 'red': 10},\n  3: {'green': 11, 'blue': 1},\n  4: {'green': 10, 'red': 4, 'blue': 3}},\n 91: {0: {'blue': 14, 'red': 9},\n  1: {'green': 5, 'red': 5, 'blue': 11},\n  2: {'green': 7, 'blue': 4, 'red': 12},\n  3: {'red': 8, 'green': 6, 'blue': 10}},\n 92: {0: {'green': 2, 'blue': 2, 'red': 12},\n  1: {'green': 2, 'blue': 1, 'red': 14},\n  2: {'red': 14, 'blue': 2, 'green': 6},\n  3: {'red': 11, 'green': 6, 'blue': 2},\n  4: {'green': 11, 'red': 12, 'blue': 2}},\n 93: {0: {'green': 4, 'blue': 7, 'red': 3},\n  1: {'green': 1, 'blue': 12, 'red': 1},\n  2: {'blue': 8, 'green': 7, 'red': 2},\n  3: {'red': 3, 'blue': 9, 'green': 2}},\n 94: {0: {'green': 13, 'blue': 9},\n  1: {'blue': 9, 'red': 1, 'green': 8},\n  2: {'green': 12, 'red': 1, 'blue': 8},\n  3: {'red': 1, 'green': 9},\n  4: {'red': 1, 'blue': 5, 'green': 14}},\n 95: {0: {'blue': 7, 'red': 14},\n  1: {'blue': 9, 'red': 17},\n  2: {'blue': 2, 'green': 1, 'red': 4}},\n 96: {0: {'blue': 11, 'green': 2, 'red': 3},\n  1: {'blue': 3, 'red': 12, 'green': 3},\n  2: {'green': 4, 'red': 11, 'blue': 1}},\n 97: {0: {'red': 9, 'green': 5, 'blue': 2},\n  1: {'red': 12, 'blue': 1, 'green': 11},\n  2: {'green': 7, 'red': 4, 'blue': 2},\n  3: {'blue': 1, 'red': 6, 'green': 10}},\n 98: {0: {'green': 5, 'red': 5, 'blue': 11},\n  1: {'red': 1, 'blue': 10, 'green': 7},\n  2: {'red': 8, 'blue': 1, 'green': 7},\n  3: {'green': 8, 'red': 11, 'blue': 2},\n  4: {'red': 4, 'blue': 5, 'green': 2},\n  5: {'green': 10, 'red': 5, 'blue': 9}},\n 99: {0: {'green': 3, 'red': 7, 'blue': 4},\n  1: {'red': 9, 'blue': 13, 'green': 2},\n  2: {'red': 3, 'green': 2, 'blue': 11},\n  3: {'red': 5, 'blue': 6, 'green': 3},\n  4: {'blue': 8, 'green': 5, 'red': 6},\n  5: {'green': 6, 'red': 13, 'blue': 1}},\n 100: {0: {'green': 9, 'blue': 7},\n  1: {'green': 1, 'red': 3, 'blue': 4},\n  2: {'red': 15, 'green': 9},\n  3: {'blue': 3, 'red': 6, 'green': 13},\n  4: {'red': 2, 'blue': 11, 'green': 12}}}"
     },
     "execution_count": 77,
     "metadata": {},
     "output_type": "execute_result"
    }
   ],
   "source": [
    "games"
   ],
   "metadata": {
    "collapsed": false,
    "ExecuteTime": {
     "end_time": "2023-12-08T14:41:15.567506Z",
     "start_time": "2023-12-08T14:41:15.555486Z"
    }
   },
   "id": "4b62428e089bc6"
  },
  {
   "cell_type": "code",
   "execution_count": 78,
   "outputs": [],
   "source": [
    "# part 2\n",
    "mincubes = {}\n",
    "\n",
    "for game_id, game_data in games.items():\n",
    "    mincubes[game_id] = {\"red\": 0, \"green\": 0, \"blue\": 0}\n",
    "    for batch_id, batch_data in game_data.items():\n",
    "        for colour, val in batch_data.items():\n",
    "            mincubes[game_id][colour] = max(mincubes[game_id][colour], val)\n",
    "    mincubes[game_id]['power'] = math.prod(mincubes[game_id].values())"
   ],
   "metadata": {
    "collapsed": false,
    "ExecuteTime": {
     "end_time": "2023-12-08T14:41:16.291008Z",
     "start_time": "2023-12-08T14:41:16.286028Z"
    }
   },
   "id": "d864d9fb3d0b6ac7"
  },
  {
   "cell_type": "code",
   "execution_count": 79,
   "outputs": [
    {
     "data": {
      "text/plain": "72513"
     },
     "execution_count": 79,
     "metadata": {},
     "output_type": "execute_result"
    }
   ],
   "source": [
    "answer = sum([mincubes[x]['power'] for x in mincubes])\n",
    "answer"
   ],
   "metadata": {
    "collapsed": false,
    "ExecuteTime": {
     "end_time": "2023-12-08T14:41:16.856188Z",
     "start_time": "2023-12-08T14:41:16.836493Z"
    }
   },
   "id": "4adf86306db44c8"
  }
 ],
 "metadata": {
  "kernelspec": {
   "display_name": "Python 3",
   "language": "python",
   "name": "python3"
  },
  "language_info": {
   "codemirror_mode": {
    "name": "ipython",
    "version": 2
   },
   "file_extension": ".py",
   "mimetype": "text/x-python",
   "name": "python",
   "nbconvert_exporter": "python",
   "pygments_lexer": "ipython2",
   "version": "2.7.6"
  }
 },
 "nbformat": 4,
 "nbformat_minor": 5
}
